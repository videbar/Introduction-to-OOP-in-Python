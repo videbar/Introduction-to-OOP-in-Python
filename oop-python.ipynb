{
 "cells": [
  {
   "cell_type": "markdown",
   "metadata": {},
   "source": [
    "# What is a programming paradigm?\n",
    "\n",
    "\n",
    "A way of thinking about programming paradigms is by understanding how a programming\n",
    "problem is solved. Broadly speaking, it requires two steps:\n",
    "\n",
    "1. First, the problem must be examined and expressed using concepts that a computer can\n",
    "understand. A solution can be found and expressed in these same concepts.\n",
    "\n",
    "2. Only then the solution to the problem can be implemented in a specific programming\n",
    "language. Each programming language offers a different set of features.\n",
    "\n",
    "These two steps are not completely independent, ideally the concepts used to describe\n",
    "the problem in 1 should align as much as possible with the features of the programing\n",
    "language chosen in 2.\n",
    "\n",
    "Programming paradigm is the name given to these set of features and/or concepts that are\n",
    "used to express a problem and its solution in a way that a computer can understand.\n",
    "\n",
    "So far we have been writing our programs mainly using variables, functions, control flow\n",
    "statements (if, elif, else) and loops. These features correspond to a paradigm called\n",
    "procedural programming.\n",
    "\n",
    "Object Oriented Programming (OOP) is a different paradigm that was design to make it\n",
    "easier to write complex programs."
   ]
  },
  {
   "cell_type": "markdown",
   "metadata": {},
   "source": [
    "\n",
    "# What's the deal with OOP?\n",
    "\n",
    "The main idea that Object Oriented Programming brings to the table is taking functions\n",
    "and variables that are related and putting them together inside entities called objects.\n",
    "Variables inside objects are called **attributes** or fields (in Python they are called\n",
    "attributes) and functions inside objects are called **methods**.\n",
    "\n",
    "Objects are treated as independent entities that can interact with one and other in\n",
    "a controlled pre-stablish manner.\n",
    "\n",
    "## Objects vs classes - the difference in an instance\n",
    "\n",
    "To call a function in Python first the function needs to be defined, and then it can be\n",
    "called any number of times with any number of arguments.\n",
    "\n",
    "Similarly, to use objects in Python, we first need to define it's behavior and then we\n",
    "can use this definition to create as many objects as we want. \n",
    "\n",
    "The definition that contains the behavior of a type of object is called a class. Usually\n",
    "it is used to specify the methods (functions) and attributes (variables) that will be\n",
    "contained in all the objects of that type.\n",
    "\n",
    "Once the class is defined, it can be used as a template to create objects. This objects\n",
    "will be of the same type but can, for example, have different values for their properties.\n",
    "Think, for example, about how different lists can contain different values, even though\n",
    "they are all lists.\n",
    "\n",
    "When an object is created by using a class it is said that it is an instance of that class."
   ]
  },
  {
   "cell_type": "markdown",
   "metadata": {},
   "source": [
    "# OOP in python\n",
    "\n",
    "To create a new class(not an object) in python the keyword `class` is used:"
   ]
  },
  {
   "cell_type": "code",
   "execution_count": 12,
   "metadata": {},
   "outputs": [
    {
     "name": "stdout",
     "output_type": "stream",
     "text": [
      "NewClass = <class '__main__.NewClass'>\n"
     ]
    }
   ],
   "source": [
    "class NewClass: # class names are written using \"CamelCase\" according to convention.\n",
    "    pass\n",
    "\n",
    "print(f\"{NewClass = }\")"
   ]
  },
  {
   "cell_type": "markdown",
   "metadata": {},
   "source": [
    "This is a new empty class definition. So far there are no attributes (variables) nor\n",
    "methods (functions) in that class. We can use this class to *instantiate* new objects:"
   ]
  },
  {
   "cell_type": "code",
   "execution_count": 9,
   "metadata": {},
   "outputs": [
    {
     "name": "stdout",
     "output_type": "stream",
     "text": [
      "new_object_1 = <__main__.NewClass object at 0x7f3650aa1550>\n",
      "new_object_2 = <__main__.NewClass object at 0x7f3650aa1430>\n"
     ]
    }
   ],
   "source": [
    "new_object_1 = NewClass() # Note the parenthesis!\n",
    "new_object_2 = NewClass()\n",
    "\n",
    "print(f\"{new_object_1 = }\\n{new_object_2 = }\")"
   ]
  },
  {
   "cell_type": "markdown",
   "metadata": {},
   "source": [
    "## Adding methods to a class\n",
    "\n",
    "Methods are just functions that we link to a specific class. To add a method to a class,\n",
    "we define the function inside the class and include an extra argument, `self`:"
   ]
  },
  {
   "cell_type": "code",
   "execution_count": 2,
   "metadata": {},
   "outputs": [],
   "source": [
    "class ClassWithMethod:\n",
    "\n",
    "    def say_hi(self):\n",
    "        print(\"I'm coming from a method\")"
   ]
  },
  {
   "cell_type": "markdown",
   "metadata": {},
   "source": [
    "A method can be called using the *dot notation*:"
   ]
  },
  {
   "cell_type": "code",
   "execution_count": 37,
   "metadata": {},
   "outputs": [
    {
     "name": "stdout",
     "output_type": "stream",
     "text": [
      "I'm coming from a method\n"
     ]
    }
   ],
   "source": [
    "# First, the class is instantiated:\n",
    "\n",
    "object_with_a_method = ClassWithMethod()\n",
    "\n",
    "# Then, it's possible to call methods of the object (not the class):\n",
    "\n",
    "object_with_a_method.say_hi()"
   ]
  },
  {
   "cell_type": "markdown",
   "metadata": {},
   "source": [
    "You may recognize the dot notation, since we have used it before:"
   ]
  },
  {
   "cell_type": "code",
   "execution_count": 4,
   "metadata": {},
   "outputs": [
    {
     "name": "stdout",
     "output_type": "stream",
     "text": [
      "a_list_of_numbers = [1, 2, 3, 4]\n"
     ]
    }
   ],
   "source": [
    "a_list_of_numbers = [1, 2, 3]\n",
    "a_list_of_numbers.append(4)\n",
    "\n",
    "print(f\"{a_list_of_numbers = }\")"
   ]
  },
  {
   "cell_type": "markdown",
   "metadata": {},
   "source": [
    "In python everything is an object, including things such as a lists, dictionaries and\n",
    "even functions. When we write `a_list.append(4)` we are calling the `append()` method\n",
    "of the `a_list` object that is an instance of the `list` class. In fact, we can see this\n",
    "by using the `type()` function:"
   ]
  },
  {
   "cell_type": "code",
   "execution_count": 18,
   "metadata": {},
   "outputs": [
    {
     "name": "stdout",
     "output_type": "stream",
     "text": [
      "<class 'list'>\n"
     ]
    }
   ],
   "source": [
    "print(type(a_list_of_numbers))"
   ]
  },
  {
   "cell_type": "markdown",
   "metadata": {},
   "source": [
    "A method, just as a normal function, can be defined with arguments by adding them after\n",
    "`self`:"
   ]
  },
  {
   "cell_type": "code",
   "execution_count": 5,
   "metadata": {},
   "outputs": [
    {
     "name": "stdout",
     "output_type": "stream",
     "text": [
      "I am an argument\n"
     ]
    }
   ],
   "source": [
    "class AnotherClassWithMethod:\n",
    "    def print_the_argument(self, arg):\n",
    "        print(arg)\n",
    "\n",
    "\n",
    "another_object_with_method = AnotherClassWithMethod()\n",
    "another_object_with_method.print_the_argument(\"I am an argument\")"
   ]
  },
  {
   "cell_type": "markdown",
   "metadata": {},
   "source": [
    "# Special/Magic methods\n",
    "\n",
    "Special methods or magic methods is the name given to methods that will be automatically\n",
    "called in given circumstances. When defining a class, the only difference between a regular\n",
    "method is the name. Magic methods have special names which Python can recognize. The complete\n",
    "list can be found [here](https://docs.python.org/3/reference/datamodel.html#special-method-names)\n",
    "but the thing they have all in common is that all magic method names start with `__` and\n",
    "end with `__()`. For example the most commonly used magic method is `__init__()`. This\n",
    "method is automatically called by Python after a new instance of the class is created.\n",
    "\n",
    "This naming convention makes magic methods easy to recognize and ensures that you won't\n",
    "accidentally use to define something else.\n",
    "\n",
    "Let's see how `__init__()` works:"
   ]
  },
  {
   "cell_type": "code",
   "execution_count": 39,
   "metadata": {},
   "outputs": [
    {
     "name": "stdout",
     "output_type": "stream",
     "text": [
      "I'm the parameter!\n"
     ]
    }
   ],
   "source": [
    "class AClassWithInitMethod:\n",
    "    def __init__(self, a_parameter): # The magic method is defined as a normal method\n",
    "        print(a_parameter) # In this case it will only print its input\n",
    "\n",
    "# The method __init__() is automatically called after a new instance of the class is\n",
    "# created:\n",
    "\n",
    "an_object = AClassWithInitMethod(\"I'm the parameter!\") # We pass the parameter when creating the class instance"
   ]
  },
  {
   "cell_type": "markdown",
   "metadata": {},
   "source": [
    "Because `__init__()` requires one argument, it is not possible to create a class without\n",
    "passing a value:"
   ]
  },
  {
   "cell_type": "code",
   "execution_count": 40,
   "metadata": {
    "scrolled": true
   },
   "outputs": [
    {
     "ename": "TypeError",
     "evalue": "__init__() missing 1 required positional argument: 'a_parameter'",
     "output_type": "error",
     "traceback": [
      "\u001b[0;31m---------------------------------------------------------------------------\u001b[0m",
      "\u001b[0;31mTypeError\u001b[0m                                 Traceback (most recent call last)",
      "\u001b[0;32m<ipython-input-40-23b677546d16>\u001b[0m in \u001b[0;36m<module>\u001b[0;34m\u001b[0m\n\u001b[0;32m----> 1\u001b[0;31m \u001b[0mfailed_object\u001b[0m \u001b[0;34m=\u001b[0m \u001b[0mAClassWithInitMethod\u001b[0m\u001b[0;34m(\u001b[0m\u001b[0;34m)\u001b[0m \u001b[0;31m# This code will fail\u001b[0m\u001b[0;34m\u001b[0m\u001b[0;34m\u001b[0m\u001b[0m\n\u001b[0m",
      "\u001b[0;31mTypeError\u001b[0m: __init__() missing 1 required positional argument: 'a_parameter'"
     ]
    }
   ],
   "source": [
    "failed_object = AClassWithInitMethod() # This code will fail"
   ]
  },
  {
   "cell_type": "markdown",
   "metadata": {},
   "source": [
    "A way of solving this is by adding a default value to the `__init__()` method:"
   ]
  },
  {
   "cell_type": "code",
   "execution_count": 41,
   "metadata": {},
   "outputs": [
    {
     "name": "stdout",
     "output_type": "stream",
     "text": [
      "Argument\n",
      "Default value\n"
     ]
    }
   ],
   "source": [
    "class AClassWithDefaultValue:\n",
    "    def __init__(self, a_parameter = \"Default value\"):\n",
    "        print(a_parameter)\n",
    "\n",
    "\n",
    "an_object = AClassWithDefaultValue(\"Argument\")\n",
    "another_object = AClassWithDefaultValue() # When no parameter is used, the method uses the default value\n"
   ]
  },
  {
   "cell_type": "markdown",
   "metadata": {},
   "source": [
    "## Encapsulation - Isolate yourselves\n",
    "\n",
    "Before we talk about how to add attributes to a class, let's discuss one of they key\n",
    "concepts of OOP, encapsulation.\n",
    "\n",
    "We have seen how in OOP systems are built by creating objects and making them interact,\n",
    "encapsulation is about limiting what objects can be seen from outside an object.\n",
    "In other words, we care about *what* an object does, but not about *how* it does it.\n",
    "Traditionally, OOP states that objects must hide their internal behavior, exposing\n",
    "only a few methods for other objects to see.\n",
    "\n",
    "Other programming languages that support OOP implement encapsulation but distinguishing\n",
    "between public and private methods. Public elements can be seen by other objects, whereas\n",
    "private elements cannot. Attributes are then accessed though public methods. For each\n",
    "attribute there are two public methods: a setter and a getter. The getter is used to\n",
    "obtain te value of the attribute and the setter is used to change the value of the attribute.\n",
    "\n",
    "Python uses a different approach. In python everything is public, there are no private\n",
    "methods and attributes can be accessed directly. Encapsulation is the achieved by \n",
    "using certain conventions to show what shouldn't be accessed. This is, the language doesn't\n",
    "enforce encapsulation, the programmer can show what methods and attributes are *intended*\n",
    "to be private but a user can bypass this at their own risk.\n",
    "\n",
    "From the [python documentation](https://docs.python.org/3/tutorial/classes.html#private-variables):\n",
    "> “Private” instance variables that cannot be accessed except from inside an object don’t exist in Python. However, there is a convention that is followed by most Python code: a name prefixed with an underscore (e.g. _spam) should be treated as a non-public part of the API (whether it is a function, a method or a data member). It should be considered an implementation detail and subject to change without notice.\n"
   ]
  },
  {
   "cell_type": "code",
   "execution_count": 42,
   "metadata": {},
   "outputs": [],
   "source": [
    "class ClassWithProtectedMethod:\n",
    "    \n",
    "    # A method can be \"tagged\" as protected by starting its name with _\n",
    "    def _protected_method(self): \n",
    "        print(\"I come from a protected method\")"
   ]
  },
  {
   "cell_type": "markdown",
   "metadata": {},
   "source": [
    "Even though the method is marked as being protected, it can still be called just as normal\n",
    "method:"
   ]
  },
  {
   "cell_type": "code",
   "execution_count": 43,
   "metadata": {},
   "outputs": [
    {
     "name": "stdout",
     "output_type": "stream",
     "text": [
      "I come from a protected method\n"
     ]
    }
   ],
   "source": [
    "object_with_protected_method = ClassWithProtectedMethod()\n",
    "\n",
    "object_with_protected_method._protected_method()"
   ]
  },
  {
   "cell_type": "markdown",
   "metadata": {},
   "source": [
    "## Adding attributes to a class\n",
    "\n",
    "The most common way of adding attributes to a class and changing their values is doing\n",
    "it from inside a method. To do so we use the dot notation with `self`:"
   ]
  },
  {
   "cell_type": "code",
   "execution_count": 2,
   "metadata": {},
   "outputs": [],
   "source": [
    "class ClassWithAttributes:\n",
    "\n",
    "    def attribute_method(self, attribute_value):\n",
    "\n",
    "        # Assign the value passed to the method to example_attribute.\n",
    "        self.example_attribute = attribute_value "
   ]
  },
  {
   "cell_type": "markdown",
   "metadata": {},
   "source": [
    "The method `attribute_method()` is called with an argument: `attribute_value`. Inside the\n",
    "method, the value given to this argument is then assign to `example_attribute`.\n",
    "\n",
    "The attribute can then be assigned a value by calling `attribute_method()` and its value\n",
    "can be retrieved by using the dot notation:"
   ]
  },
  {
   "cell_type": "code",
   "execution_count": 5,
   "metadata": {},
   "outputs": [
    {
     "name": "stdout",
     "output_type": "stream",
     "text": [
      "value = 'This value will be assigned to an attribute'\n"
     ]
    }
   ],
   "source": [
    "object_with_attributes = ClassWithAttributes()\n",
    "\n",
    "object_with_attributes.attribute_method(\"This value will be assigned to an attribute\")\n",
    "\n",
    "value = object_with_attributes.example_attribute # Obtain the value from an attribute.\n",
    "print(f\"{value = }\")"
   ]
  },
  {
   "cell_type": "markdown",
   "metadata": {},
   "source": [
    "The word `self` is used to refer to each of the objects that are instances of a class\n",
    "inside method definitions. As we have seen, it is possible to create multiple objects\n",
    "from one class (multiple instances):"
   ]
  },
  {
   "cell_type": "code",
   "execution_count": null,
   "metadata": {},
   "outputs": [],
   "source": [
    "a_object = ClassWithAttributes()\n",
    "another_object = ClassWithAttributes()"
   ]
  },
  {
   "cell_type": "markdown",
   "metadata": {},
   "source": [
    "The way that the class definition refers to each object individually is by using `self`.\n",
    "This means that we we call `a_object.attribute_method()` python will treat `self` as\n",
    "`a_object`, but when we call `another_object.attribute_method()`, it will treat `self`\n",
    "as `another_object`.\n",
    "\n",
    "This way different instances of the same class can have different values for their\n",
    "attributes."
   ]
  },
  {
   "cell_type": "code",
   "execution_count": null,
   "metadata": {},
   "outputs": [],
   "source": [
    "a_object.attribute_method(\"This is one value\")\n",
    "another_object.attribute_method(\"This is another value\")"
   ]
  },
  {
   "cell_type": "markdown",
   "metadata": {},
   "source": [
    "A common thing to do in Python is to assign values to attributes inside the `__init__()`\n",
    "method. This way you can make sure that the attribute values are assigned when an instance\n",
    "of the class is created:"
   ]
  },
  {
   "cell_type": "code",
   "execution_count": 7,
   "metadata": {},
   "outputs": [
    {
     "name": "stdout",
     "output_type": "stream",
     "text": [
      "I will be assigned to an attribute!\n"
     ]
    }
   ],
   "source": [
    "class EvenAnotherClass:\n",
    "    def __init__(self, attribute_value):\n",
    "        self.example_attribute = attribute_value\n",
    "\n",
    "even_another_object = EvenAnotherClass(\"I will be assigned to an attribute!\")\n",
    "\n",
    "print(even_another_object.example_attribute)"
   ]
  },
  {
   "cell_type": "markdown",
   "metadata": {},
   "source": [
    "# Inheritance "
   ]
  },
  {
   "cell_type": "markdown",
   "metadata": {},
   "source": [
    "Inheritance is another key aspect of how Python implements OOP. It consists of taking a\n",
    "class and expanding it, by adding additional attributes/methods. This way it is possible\n",
    "to reuse existing code. When a class inherits from another class the are respectively\n",
    "called subclass and superclass.\n",
    "\n",
    "To create a class in Python that inherits from another class, the superclass is specified\n",
    "in the subclass definition:"
   ]
  },
  {
   "cell_type": "code",
   "execution_count": 11,
   "metadata": {},
   "outputs": [
    {
     "name": "stdout",
     "output_type": "stream",
     "text": [
      "I'm defined in the superclass\n",
      "I'm defined in the superclass\n",
      "I'm defined in the subclass\n"
     ]
    }
   ],
   "source": [
    "class SuperClass:\n",
    "    def print_superclass(self):\n",
    "        print(\"I'm defined in the superclass\")\n",
    "\n",
    "\n",
    "class SubClass(SuperClass): # To inherit from a class, it is specificied in the subclass definition\n",
    "    def print_subclass(self):\n",
    "        print(\"I'm defined in the subclass\")\n",
    "\n",
    "\n",
    "superclass_object = SuperClass()\n",
    "subclass_object = SubClass()\n",
    "\n",
    "# The object that is an instance of the superclass can only call print_superclass():\n",
    "\n",
    "superclass_object.print_superclass()\n",
    "# This will fail \n",
    "# superclass_object.print_subclass()\n",
    "\n",
    "# The object that is an instance of the subclass can call both print_superclass() and\n",
    "# print_subclass():\n",
    "\n",
    "subclass_object.print_superclass()\n",
    "subclass_object.print_subclass()"
   ]
  },
  {
   "cell_type": "markdown",
   "metadata": {},
   "source": [
    "# Summary of the main ideas\n",
    "\n",
    "* In OOP we use objects that communicate between them.\n",
    "\n",
    "* Objects can contain variables and functions. A variable\n",
    "  inside an object is called an **atribute** a function\n",
    "  inside an object is called a **method**.\n",
    "  \n",
    "* To create an object we instantiate a class. To create a class\n",
    "  in Python we use the `class` keyword.\n",
    "  \n",
    "* To add a method to a class we define a function inside the class\n",
    "  and add an extra argument: `self`.\n",
    "  \n",
    "* In Python attributes and methods are accessed using the dot\n",
    "  notation: `object.attribute` or `object.method()`.\n",
    "  \n",
    "* There are some special (magic) methods that python will cal automatically in\n",
    "  certain ocasions. They all have names of the form `__metod_name__()`, e.g.,\n",
    "  `__init__()`.\n",
    "  \n",
    "* We can mark a method or an attribute as private using an underscore\n",
    "  in its name, e.g., `_i_am_a_private_attribute`, `_i_am_a_private_method()`.\n",
    "  **Python does not enforce private attributes/methods in any way.**\n",
    "  \n",
    "* A class can be expanded by using **inheritance**. To do so we indicate\n",
    "  class to expand (superclass) in the subclass definition: `class SubClass(SuperClass):`"
   ]
  },
  {
   "cell_type": "markdown",
   "metadata": {},
   "source": [
    "# An OOP example\n",
    "\n",
    "Let's now work on an example that show how this OOP ideas can be implemented, we will\n",
    "simulate a game of Bingo! The rules are the following:\n",
    "\n",
    "* There will be a certain number of bingo cards. This cards contain a 5x5 matrix of\n",
    "  fields that contain a number.\n",
    "* During each turn, a random number is generated. The program should mark the fields in\n",
    "  the cards the contain the generated number.\n",
    "* The moment a card contains a horizontal, vertical or diagonal line of 5 marked fields\n",
    "  the game ends and that card wins.\n",
    "\n",
    "To implement it in Python, we will create two classes, `BingoCard` and `BingoCardField`.\n",
    "\n",
    "`BingoCardField` will simply contain one attribute to indicate the number in the field\n",
    "and another one to indicate if it has been marked.\n",
    "\n",
    "`BingoCard` will contain as an attribute a matrix of fields to represent the numbers in\n",
    "the card and which of them have been already marked. \n",
    "\n",
    "Additionally, `BingoCardField` will have a method to to mark the numbers, and\n",
    "`BingoCard` will have a method to check if it has won."
   ]
  },
  {
   "cell_type": "code",
   "execution_count": 13,
   "metadata": {},
   "outputs": [],
   "source": [
    "from typing import List\n",
    "\n",
    "\"\"\"First we define the bingo card fields. These are the squares in the bingo card with\n",
    "a number on them. We want them to have to attributes, a number attribute and an\n",
    "an attribute indicating if they are marked or not.\n",
    "\"\"\"\n",
    "\n",
    "\n",
    "class BingoCardField:\n",
    "        \"\"\"This class represents the field of a bingo card, thus it contains an\n",
    "        attribute that holds the a number and another attribute that indicates if\n",
    "        the field has been marked.\n",
    "        It also contains a method that compares a given number with the number in the\n",
    "        field and mark the field in case they are the same.\n",
    "        \"\"\"\n",
    "        def __init__(self, number: int, marked: bool=False):\n",
    "                self.number = number\n",
    "                self.marked = marked\n",
    "\n",
    "        def check_number(self, number: int):\n",
    "                if number == self.number:\n",
    "                        self.marked = True\n",
    "\n",
    "class BingoCard:\n",
    "        \"\"\"This class represents a bingo card. It contain a matrix of BingoCardField\n",
    "        objects and methods to mark the fields that correspond to a given number and\n",
    "        to check if the game ended.\n",
    "        \"\"\"\n",
    "        def __init__(self, numbers: List[List[int]]):\n",
    "                \"\"\"The __init__() functions is called after a new BingoCard is created,\n",
    "                it will take care of taking a matrix of numbers (just ints) and using\n",
    "                it to instantiate equivalent BingoCardFields. \n",
    "\n",
    "                Args:\n",
    "                    numbers (List[List[int]]): Matrix of ints that describes the numbers\n",
    "                    in the bingo card.\n",
    "                \"\"\"\n",
    "\n",
    "                # The BingoCardField is a private attribute, note the _ at the\n",
    "                # beginning of the name.\n",
    "                self._fields: List[List[BingoCardField]] = [\n",
    "                        [BingoCardField(item) for item in row] for row in numbers]\n",
    "\n",
    "                # This can also be done with a for loop, but is more verbose and less clear:\n",
    "                # fields = []\n",
    "                # for row in numbers:\n",
    "                #         fields.append([])\n",
    "                #         for item in row:\n",
    "                #                 fields[-1].append(BingoCardField(item))\n",
    "\n",
    "        def mark_number(self, number: int):\n",
    "                \"\"\"This method will be called with a number and it will mark all the\n",
    "                BingCardField in the current instance of BingoCard (using self) that\n",
    "                contain that number.\n",
    "\n",
    "                Args:\n",
    "                    number (int): number to be checked in the BingoCardField\n",
    "                \"\"\"\n",
    "\n",
    "                # Note that the method check_number() is called on ALL of the fields of\n",
    "                # the bingo card and it is the check_number() method (defined in\n",
    "                # BingoCardField) that checks if it has to mark the number.\n",
    "                for row in self._fields:\n",
    "                        for item in row:\n",
    "                                item.check_number(number)\n",
    "\n",
    "        def check_bingo(self) -> bool:\n",
    "                \"\"\"This method checks if the the instance of BingoCard has won the game.\n",
    "                To do so it has to check if there are any rows, columns or diagonals in\n",
    "                the self._fields matrix that contain all BingoCardFields with\n",
    "                marked = True.\n",
    "\n",
    "                Returns:\n",
    "                    bool: Indicate if the card won the game, True if it won, False if it\n",
    "                    didn't\n",
    "                \"\"\"\n",
    "\n",
    "                # Check there is any row that contains fields which are all marked:\n",
    "                if any(all(item.marked for item in row) for row in self._fields):\n",
    "                        return True\n",
    "\n",
    "                # To check if any column contains fields that are all marked, we\n",
    "                # calculate the inverse of the fields matrix, this is, the rows are\n",
    "                # columns and vice-versa:\n",
    "                inverse_fields = [[row[i] for row in self._fields] for i in range(len(self._fields))]\n",
    "\n",
    "                # And then we apply the same method.\n",
    "                if any(all(item.marked for item in row) for row in inverse_fields):\n",
    "                        return True\n",
    "\n",
    "                # Check if the top-left to bottom-right diagonal is all marked.\n",
    "                if all(self._fields[i][i].marked for i in range(len(self._fields))):\n",
    "                        return True\n",
    "\n",
    "                # Check if the bottom-left to top-right diagonal is all marked.\n",
    "                if all(self._fields[i][-1-i].marked for i in range(len(self._fields))):\n",
    "                        return True\n",
    "\n",
    "                # If none of the previous conditions are True, return False.\n",
    "                return False"
   ]
  },
  {
   "cell_type": "code",
   "execution_count": 14,
   "metadata": {},
   "outputs": [
    {
     "name": "stdout",
     "output_type": "stream",
     "text": [
      "The call is: 7\n",
      "The call is: 4\n",
      "The call is: 9\n",
      "The call is: 5\n",
      "The call is: 11\n",
      "The call is: 17\n",
      "The call is: 23\n",
      "The call is: 2\n",
      "Bingo! The winner is Charlie\n"
     ]
    }
   ],
   "source": [
    "bingo_calls = [7, 4, 9, 5, 11, 17, 23, 2, 0, 14, 21, 24,\n",
    "              10, 16, 13, 6, 15, 25, 12, 22, 18, 20, 8, 19, 3, 26, 1]\n",
    "\n",
    "board_data = [[[22, 13, 17, 11,  0],\n",
    "               [8,  2, 23,  4, 24, ],\n",
    "               [21,  9, 14, 16,  7, ],\n",
    "               [6, 10,  3, 18,  5, ],\n",
    "               [1, 12, 20, 15, 19]],\n",
    "              [[3, 15,  0,  2, 22],\n",
    "               [9, 18, 13, 17,  5],\n",
    "               [19,  8,  7, 25, 23],\n",
    "               [20, 11, 10, 24,  4],\n",
    "               [14, 21, 16, 12,  6]],\n",
    "              [[14, 21, 17, 24,  4],\n",
    "               [10, 16, 15,  9, 19],\n",
    "               [18,  8, 23, 26, 20],\n",
    "               [22, 11, 13,  6,  5],\n",
    "               [2,  0, 12,  3,  7]]]\n",
    "\n",
    "# A list of players\n",
    "players = [\"Alice\", \"Bob\", \"Charlie\"]\n",
    "\n",
    "# Create a list of bingo cars using the board_data\n",
    "bingo_cards = [BingoCard(numbers) for numbers in board_data]\n",
    "\n",
    "# Create a dictionary with the players and their cards\n",
    "player_cards = dict(zip(players, bingo_cards))\n",
    "\n",
    "for call in bingo_calls:\n",
    "    print(f\"The call is: {call}\")\n",
    "    for player, card in player_cards.items():\n",
    "        card.mark_number(call)\n",
    "        \n",
    "        # If there's a winner, announce it and break out of the loop\n",
    "        if card.check_bingo():\n",
    "            print(f\"Bingo! The winner is {player}\")\n",
    "            break\n",
    "    else:\n",
    "        continue\n",
    "        \n",
    "    break"
   ]
  },
  {
   "cell_type": "markdown",
   "metadata": {},
   "source": [
    "# Setters and Getters\n",
    " \n",
    " We've seen that we can access attributes using the dot notation and that this allows\n",
    " us to set and retrieve the value of the attributes. In some cases you may to customize\n",
    " what happens when you use the dot notation. For example, you may want to check that\n",
    " something is an `int` before assigning it as an attribute value. Python allow you to do\n",
    " so using a combination of decorators and private attributes:"
   ]
  },
  {
   "cell_type": "code",
   "execution_count": 47,
   "metadata": {},
   "outputs": [],
   "source": [
    "class ClassCustomDot:\n",
    "    \"\"\"If we have an attribute x and we want to define custom setters and getters, this\n",
    "    is, custom functions that are called when we use the dot notation, we define x as a\n",
    "    private attribute, and then we define functions that hide this private attribute.\n",
    "    \"\"\"\n",
    "\n",
    "    def __init__(self, x: int):\n",
    "\n",
    "        # x is a private attribute\n",
    "        self._x = x\n",
    "\n",
    "    # To define a custom getter, the function that will be called when we use the dot\n",
    "    # notation to get the value of x, we use the @property decorator and we define\n",
    "    # a method called x().\n",
    "    # This indicates to python that this method is a custom getter. The x() method should\n",
    "    # return the value of the _x attribute.\n",
    "    @property\n",
    "    def x(self):\n",
    "        print(\"Some custom behavior\")\n",
    "        return self._x\n",
    "\n",
    "    # To define a custom setter, the function to be called when we set the attribute value\n",
    "    # of x, we use the @x.setter decorator. This indicates to Python that the method is\n",
    "    # a setter for the x attribute and thus it should call it when we try to set the\n",
    "    # the value of x.\n",
    "    @x.setter\n",
    "    def x(self, value):\n",
    "        # We can, for example, make sure that the value passed to x is an int:\n",
    "        if isinstance(value, int):\n",
    "            self._x = value\n",
    "        else:\n",
    "            print(\"Sorry, that's not an int\")"
   ]
  },
  {
   "cell_type": "markdown",
   "metadata": {},
   "source": [
    "When we use the dot notation on an instance of `ClassCustomDot`, python will automatically\n",
    "call the methods we have decorated:"
   ]
  },
  {
   "cell_type": "code",
   "execution_count": 48,
   "metadata": {},
   "outputs": [
    {
     "name": "stdout",
     "output_type": "stream",
     "text": [
      "Some custom behavior\n",
      "Sorry, that's not an int\n"
     ]
    }
   ],
   "source": [
    "test_object = ClassCustomDot(4)\n",
    "\n",
    "# We will call the getter each time we get the attribute x:\n",
    "a = test_object.x\n",
    "\n",
    "# Similarly, we will call the setter each time we set the attribute x:\n",
    "test_object.x = 2.0\n",
    "test_object.x = 4"
   ]
  },
  {
   "cell_type": "markdown",
   "metadata": {},
   "source": [
    "# Class methods\n",
    "\n",
    "We have seen that methods are functions that are called from an objects. Class methods\n",
    "are functions that are called from a class. This is, instead of being called from the\n",
    "instance, they are called from the class itself.\n",
    "\n",
    "Because of this class methods are not linked to any particular instances of a class\n",
    "and can't access the particular values of the attributes.\n",
    "\n",
    "Let's see the differences between methods and class methods:"
   ]
  },
  {
   "cell_type": "code",
   "execution_count": 42,
   "metadata": {},
   "outputs": [],
   "source": [
    "class ExampleClass:\n",
    "\n",
    "    # To define a class method we use the @classmethod decorator. We also use cls\n",
    "    # instead of self. cls refers to the class, not the instance,  in this case cls\n",
    "    # will refer to ExampleClass.\n",
    "    @classmethod\n",
    "    def example_class_method(cls):\n",
    "        print(\"I am coming from a class method\")\n",
    "\n",
    "    # A normal method:\n",
    "    def example_method(self):\n",
    "        print(\"I am coming from a normal method\")"
   ]
  },
  {
   "cell_type": "markdown",
   "metadata": {},
   "source": [
    "In order to call `example_method()` we first need to create an instance of the class,\n",
    "however, we don't need to this ro call `example_class_method()`, since it's a class\n",
    "method."
   ]
  },
  {
   "cell_type": "code",
   "execution_count": 18,
   "metadata": {},
   "outputs": [
    {
     "name": "stdout",
     "output_type": "stream",
     "text": [
      "I am coming from a class method\n",
      "I am coming from a normal method\n"
     ]
    }
   ],
   "source": [
    "# We can call class methods without instantiating the class:\n",
    "ExampleClass.example_class_method()\n",
    "\n",
    "# But to call a normal method we first need a particular instance of the class:\n",
    "example_object = ExampleClass()\n",
    "example_object.example_method()"
   ]
  },
  {
   "cell_type": "markdown",
   "metadata": {},
   "source": [
    "## How to use class methods\n",
    "\n",
    "By far the most common use for class methods is to create alternative ways of building\n",
    "a class. Imagine if in the previous Bingo example we wanted to be able to create instances\n",
    "of `BingoCard` from a matrix of numbers stored in a file.\n",
    "\n",
    "We would do this by implementing a new method in the class. This method however is not\n",
    "linked to any specific instance, it's not related to any specific bingo card, but\n",
    "to the idea of a bingo card. Furthermore, the method needs to return an instance of\n",
    "a bingo card. These are indicatives that we actually want a class method:"
   ]
  },
  {
   "cell_type": "code",
   "execution_count": 19,
   "metadata": {},
   "outputs": [],
   "source": [
    "\n",
    "class BingoCard:\n",
    "        \"\"\"This class represents a bingo card. It contain a matrix of BingoCardField\n",
    "        objects and methods to mark the fields that correspond to a given number and\n",
    "        to check if the game ended.\n",
    "        \"\"\"\n",
    "\n",
    "        @classmethod\n",
    "        def from_file(cls, filename: str):\n",
    "                \"\"\"To create a BingoCard from a file, we first need to read the text\n",
    "                file, then build a list of numbers from the contents of the file\n",
    "                and then use the list of numbers to create an instance of BingoCard.\n",
    "\n",
    "                Because this method is not linked to any instance of BingoCard and\n",
    "                needs to access the class in order to return a BingoCard instance,\n",
    "                it should be a class method.\n",
    "\n",
    "                Args:\n",
    "                    filename (str): name of the file that contains the bingo numbers\n",
    "                \"\"\"\n",
    "                numbers = []\n",
    "                with open(filename, \"r\") as numbers_file:\n",
    "                        for line in numbers_file:\n",
    "                                numbers.append(list(map(int, line.split(\", \"))))\n",
    "\n",
    "                # To return the BingoCard instance we can instantiate it in the same\n",
    "                # way we usually do but using cls, which python will substitute by\n",
    "                # the class calling the method, in this case BingoCard\n",
    "                return cls(numbers)\n",
    "\n",
    "        def __init__(self, numbers: List[List[int]]):\n",
    "                \"\"\"The __init__() functions is called after a new BingoCard is created,\n",
    "                it will take care of taking a matrix of numbers (just ints) and using\n",
    "                it to instantiate equivalent BingoCardFields. \n",
    "\n",
    "                Args:\n",
    "                    numbers (List[List[int]]): Matrix of ints that describes the numbers\n",
    "                    in the bingo card.\n",
    "                \"\"\"\n",
    "\n",
    "                self._fields: List[List[BingoCardField]] = [\n",
    "                        [BingoCardField(item) for item in row] for row in numbers]\n",
    "\n",
    "\n",
    "        def mark_number(self, number: int):\n",
    "                \"\"\"This method will be called with a number and it will mark all the\n",
    "                BingCardField in the current instance of BingoCard (using self) that\n",
    "                contain that number.\n",
    "\n",
    "                Args:\n",
    "                    number (int): number to be checked in the BingoCardField\n",
    "                \"\"\"\n",
    "\n",
    "                for row in self._fields:\n",
    "                        for item in row:\n",
    "                                item.check_number(number)\n",
    "\n",
    "        def check_bingo(self) -> bool:\n",
    "                \"\"\"This method checks if the the instance of BingoCard has won the game.\n",
    "                To do so it has to check if there are any rows, columns or diagonals in\n",
    "                the self._fields matrix that contain all BingoCardFields with\n",
    "                marked = True.\n",
    "\n",
    "                Returns:\n",
    "                    bool: Indicate if the card won the game, True if it won, False if it\n",
    "                    didn't\n",
    "                \"\"\"\n",
    "\n",
    "                # Check there is any row that contains fields which are all marked:\n",
    "                if any(all(item.marked for item in row) for row in self._fields):\n",
    "                        return True\n",
    "\n",
    "                # To check if any column contains fields that are all marked, we\n",
    "                # calculate the inverse of the fields matrix, this is, the rows are\n",
    "                # columns and vice-versa:\n",
    "                inverse_fields = [\n",
    "                        [row[i] for row in self._fields]\n",
    "                        for i in range(len(self._fields))]\n",
    "\n",
    "                # And then we apply the same method.\n",
    "                if any(all(item.marked for item in row) for row in inverse_fields):\n",
    "                        return True\n",
    "\n",
    "                # Check if the top-left to bottom-right diagonal is all marked.\n",
    "                if all(self._fields[i][i].marked for i in range(len(self._fields))):\n",
    "                        return True\n",
    "\n",
    "                # Check if the bottom-left to top-right diagonal is all marked.\n",
    "                if all(self._fields[i][-1-i].marked for i in range(len(self._fields))):\n",
    "                        return True\n",
    "\n",
    "                # If none of the previous conditions are True, return False.\n",
    "                return False"
   ]
  },
  {
   "cell_type": "markdown",
   "metadata": {},
   "source": [
    "Then we can call the class method using the dot notation, but in this case from the class:"
   ]
  },
  {
   "cell_type": "code",
   "execution_count": 20,
   "metadata": {},
   "outputs": [],
   "source": [
    "new_card = BingoCard.from_file(\"bingo-numbers.txt\")"
   ]
  },
  {
   "cell_type": "markdown",
   "metadata": {},
   "source": [
    "# Dataclasses\n",
    "\n",
    "A common thing in Python is to want to define a simple class to hold some data. This data\n",
    "could maybe be stored in a builtin type, like a list of a dictionary, but by storing it\n",
    "in its own class it makes code clearer.\n",
    "An example maybe an employ class which contains attributes for the first name, last names,\n",
    "and employ ID. This may be stored as a dictionary, but by making it a class it is clearer\n",
    "what we want to represent.\n",
    "\n",
    "Classes that hold data usually follow this structure"
   ]
  },
  {
   "cell_type": "code",
   "execution_count": 21,
   "metadata": {},
   "outputs": [],
   "source": [
    "from typing import List\n",
    "\n",
    "class Employee:\n",
    "    def __init__(self, first_name: str, last_names: List[str], id: int):\n",
    "        \"\"\"The __init__ method is used to set the attribute values.\n",
    "        \"\"\"\n",
    "        self.first_name = first_name\n",
    "        self.last_names = last_names\n",
    "        self.id = id\n",
    "    \n",
    "    # Additionally some magic methods may be defined to add some functionality:\n",
    "\n",
    "    def __eq__(self, other) -> bool:\n",
    "        \"\"\"This method make it possible to compare an instance of the class with another\n",
    "        object using the comparator operator ==. \n",
    "\n",
    "        In this case we want the two object to be the same (the function returns true)\n",
    "        if both are instances of Employ and their attributes are the same.\n",
    "\n",
    "        Args:\n",
    "            other (_type_): It is the object with which the instance will be compared\n",
    "        \"\"\"\n",
    "        if not isinstance(other, Employee):\n",
    "            return False\n",
    "\n",
    "        return (\n",
    "            self.id == other.id\n",
    "            and self.first_name == other.first_name\n",
    "            and self.last_names == self.last_names\n",
    "        )\n"
   ]
  },
  {
   "cell_type": "markdown",
   "metadata": {},
   "source": [
    "The idea behind this class is very simple, but it took a lot of code. A way of solving\n",
    "this is by using `dataclasses`. This is a [library](\n",
    "https://docs.python.org/3/library/dataclasses.html) that basically automatically includes\n",
    "all the functionality that we have to specify in the `Employee` class (and much more). \n",
    "\n",
    "To use `dataclasses` we import the library and use the `@dataclass` decorator when\n",
    "defining the `Employ` class:"
   ]
  },
  {
   "cell_type": "code",
   "execution_count": 43,
   "metadata": {},
   "outputs": [],
   "source": [
    "from dataclasses import dataclass\n",
    "\n",
    "@dataclass\n",
    "class SimplerEmployee:\n",
    "    \"\"\"When using a dataclass we only need to specify the attributes we want to\n",
    "    set and their types, and then a __init__() method will be automatically generated.\n",
    "    \"\"\"\n",
    "\n",
    "    first_name: str\n",
    "    last_names: list\n",
    "    id: int"
   ]
  },
  {
   "cell_type": "markdown",
   "metadata": {},
   "source": [
    "And that's it! Both `__init__()` and `__eq__()` have been generated for us. We can now\n",
    "use this class in the way we can expect:"
   ]
  },
  {
   "cell_type": "code",
   "execution_count": 44,
   "metadata": {},
   "outputs": [
    {
     "name": "stdout",
     "output_type": "stream",
     "text": [
      "alice.first_name = 'Alice'\n",
      "alice.last_names = ['Something']\n",
      "alice.id = 1\n",
      "Comparison: alice == alice_clone: True\n"
     ]
    }
   ],
   "source": [
    "alice = SimplerEmployee(\"Alice\", [\"Something\"], 1)\n",
    "\n",
    "print(f\"{alice.first_name = }\")\n",
    "print(f\"{alice.last_names = }\")\n",
    "print(f\"{alice.id = }\")\n",
    "\n",
    "alice_clone = SimplerEmployee(\"Alice\", [\"Something\"], 1)\n",
    "\n",
    "print(f\"Comparison: alice == alice_clone: {alice == alice_clone}\")"
   ]
  },
  {
   "cell_type": "markdown",
   "metadata": {},
   "source": [
    "# Hashability(?) and mutability\n",
    "\n",
    "Object in Python can be either mutable or immutable, depending on if it is possible\n",
    "to modify them. Things like lists and dictionaries mutable and it is possible to modify\n",
    "them:"
   ]
  },
  {
   "cell_type": "code",
   "execution_count": 24,
   "metadata": {},
   "outputs": [
    {
     "name": "stdout",
     "output_type": "stream",
     "text": [
      "a_list = ['a', 'b', 'c']\n",
      "a_list = ['a', 42, 'c']\n"
     ]
    }
   ],
   "source": [
    "a_list = [\"a\", \"b\", \"c\"]\n",
    "print(f\"{a_list = }\")\n",
    "a_list[1] = 42\n",
    "print(f\"{a_list = }\")"
   ]
  },
  {
   "cell_type": "markdown",
   "metadata": {},
   "source": [
    "On the other hand, things like strings and tuples are immutable, which means that they\n",
    "can not be modified once they have been created:\n"
   ]
  },
  {
   "cell_type": "code",
   "execution_count": 25,
   "metadata": {},
   "outputs": [
    {
     "name": "stdout",
     "output_type": "stream",
     "text": [
      "a_tuple[0] = 'a'\n"
     ]
    },
    {
     "ename": "TypeError",
     "evalue": "'tuple' object does not support item assignment",
     "output_type": "error",
     "traceback": [
      "\u001b[0;31m---------------------------------------------------------------------------\u001b[0m",
      "\u001b[0;31mTypeError\u001b[0m                                 Traceback (most recent call last)",
      "\u001b[0;32m<ipython-input-25-91f8ead622eb>\u001b[0m in \u001b[0;36m<module>\u001b[0;34m\u001b[0m\n\u001b[1;32m      5\u001b[0m \u001b[0;34m\u001b[0m\u001b[0m\n\u001b[1;32m      6\u001b[0m \u001b[0;31m# But we cannot modify them:\u001b[0m\u001b[0;34m\u001b[0m\u001b[0;34m\u001b[0m\u001b[0;34m\u001b[0m\u001b[0m\n\u001b[0;32m----> 7\u001b[0;31m \u001b[0ma_tuple\u001b[0m\u001b[0;34m[\u001b[0m\u001b[0;36m0\u001b[0m\u001b[0;34m]\u001b[0m \u001b[0;34m=\u001b[0m \u001b[0;36m42\u001b[0m \u001b[0;31m# This code will fail, a tuple cannot be modified\u001b[0m\u001b[0;34m\u001b[0m\u001b[0;34m\u001b[0m\u001b[0m\n\u001b[0m",
      "\u001b[0;31mTypeError\u001b[0m: 'tuple' object does not support item assignment"
     ]
    }
   ],
   "source": [
    "a_tuple = (\"a\", \"b\", \"c\")\n",
    "\n",
    "# We can access the elements of the tuple:\n",
    "print(f\"{a_tuple[0] = }\")\n",
    "\n",
    "# But we cannot modify them:\n",
    "a_tuple[0] = 42 # This code will fail, a tuple cannot be modified"
   ]
  },
  {
   "cell_type": "markdown",
   "metadata": {},
   "source": [
    "Object in Python can also be [hashable](https://docs.python.org/3/glossary.html#term-hashable).\n",
    "This means that they implement the `__hash__()` method, which allows them to be used\n",
    "as keys in a dictionary. However, some special precautions must be taken when implementing \n",
    "`__hash__()` on a class:\n",
    "\n",
    "1. Only immutable objects should be hashable, this is `__hash__()` should not be\n",
    "    implemented for mutable objects.\n",
    "\n",
    "2. If a class does not define an `__eq__()` method it should not define a `__hash__()`\n",
    "    operation either and objects that are equal according to `__eq__()` should return\n",
    "    the same hash value.\n",
    "\n",
    "3. The hash value that `__hash__()` returns should not change during its lifespan and\n",
    "    should reflect the value of the object. It is advisable to include the hashes of the\n",
    "    components that are taken into account when defining `__eq__()`.\n",
    "\n",
    "To build an immutable object on which `__hash__()` can be implemented, we can use a\n",
    "combination of private attributes, and getters:"
   ]
  },
  {
   "cell_type": "code",
   "execution_count": 26,
   "metadata": {},
   "outputs": [],
   "source": [
    "class Point:\n",
    "    \"\"\"This class represents a point in a two dimensional space. It has two attributes\n",
    "    that are the x and y coordinates and it will be used to instantiate objects that\n",
    "    are immutable and hashable.\n",
    "\n",
    "    To make the objects immutable the x and y attributes are stored as private attributes\n",
    "    and they are accessed through the getters defined using @property. However,\n",
    "    no setters are defined since the values of this attributes should never change.\n",
    "    \"\"\"\n",
    "\n",
    "    def __init__(self, x: float, y: float):\n",
    "        self._x = x\n",
    "        self._y = y\n",
    "    \n",
    "    def __eq__(self, other) -> bool:\n",
    "        \"\"\"Two objects will be equal if both are Points and their coordinates are equal.\n",
    "        \"\"\"\n",
    "        if not isinstance(other, Point):\n",
    "            return False\n",
    "\n",
    "        return self.x == other.x and self.y == other.y\n",
    "\n",
    "    def __hash__(self):\n",
    "        return(hash((self.x, self.y)))\n",
    "\n",
    "    @property\n",
    "    def x(self):\n",
    "        return self._x\n",
    "\n",
    "    @property\n",
    "    def y(self):\n",
    "        return self._y"
   ]
  },
  {
   "cell_type": "markdown",
   "metadata": {},
   "source": [
    "The resulting point objects are immutable, their attributes can be seen:"
   ]
  },
  {
   "cell_type": "code",
   "execution_count": 27,
   "metadata": {},
   "outputs": [
    {
     "name": "stdout",
     "output_type": "stream",
     "text": [
      "x = 4\n",
      "y = 2\n"
     ]
    }
   ],
   "source": [
    "point_a = Point(4,2)\n",
    "x = point_a.x\n",
    "y = point_a.y\n",
    "\n",
    "print(f\"{x = }\\n{y = }\")"
   ]
  },
  {
   "cell_type": "markdown",
   "metadata": {},
   "source": [
    "but they can't be modified:"
   ]
  },
  {
   "cell_type": "code",
   "execution_count": 28,
   "metadata": {},
   "outputs": [
    {
     "ename": "AttributeError",
     "evalue": "can't set attribute",
     "output_type": "error",
     "traceback": [
      "\u001b[0;31m---------------------------------------------------------------------------\u001b[0m",
      "\u001b[0;31mAttributeError\u001b[0m                            Traceback (most recent call last)",
      "\u001b[0;32m<ipython-input-28-b36a067cad5c>\u001b[0m in \u001b[0;36m<module>\u001b[0;34m\u001b[0m\n\u001b[0;32m----> 1\u001b[0;31m \u001b[0mpoint_a\u001b[0m\u001b[0;34m.\u001b[0m\u001b[0mx\u001b[0m \u001b[0;34m=\u001b[0m \u001b[0;36m1\u001b[0m \u001b[0;31m# This code will fail\u001b[0m\u001b[0;34m\u001b[0m\u001b[0;34m\u001b[0m\u001b[0m\n\u001b[0m",
      "\u001b[0;31mAttributeError\u001b[0m: can't set attribute"
     ]
    }
   ],
   "source": [
    "point_a.x = 1 # This code will fail"
   ]
  },
  {
   "cell_type": "markdown",
   "metadata": {},
   "source": [
    "Two instances can be compared as expected:"
   ]
  },
  {
   "cell_type": "code",
   "execution_count": 29,
   "metadata": {},
   "outputs": [
    {
     "name": "stdout",
     "output_type": "stream",
     "text": [
      "origin == origin_2: True \n",
      "origin == not_origin: False \n"
     ]
    }
   ],
   "source": [
    "origin = Point(0, 0)\n",
    "origin_2 = Point(0, 0)\n",
    "not_origin = Point(1,-4)\n",
    "\n",
    "print(f\"origin == origin_2: {origin == origin_2}\")\n",
    "print(f\"origin == not_origin: {origin == not_origin}\")"
   ]
  },
  {
   "cell_type": "markdown",
   "metadata": {},
   "source": [
    "And since they are hashable, they point instances can be used as dictionary keys:"
   ]
  },
  {
   "cell_type": "code",
   "execution_count": 30,
   "metadata": {},
   "outputs": [],
   "source": [
    "point_dictionary = {origin: \"origin\", origin_2: \"also origin\"}"
   ]
  },
  {
   "cell_type": "markdown",
   "metadata": {},
   "source": [
    "And as other things we have seen, this can also be done more easily with dataclasses:"
   ]
  },
  {
   "cell_type": "code",
   "execution_count": 31,
   "metadata": {},
   "outputs": [],
   "source": [
    "from dataclasses import dataclass\n",
    "\n",
    "# By setting the frozen argument to True, the dataclass will be immutable. If on top\n",
    "# of that eq is set to true (it is by default), a __hash__() method will be automatically\n",
    "# added\n",
    "@dataclass(frozen=True)\n",
    "class SimplerPoint:\n",
    "    x: float\n",
    "    y: float"
   ]
  },
  {
   "cell_type": "markdown",
   "metadata": {},
   "source": [
    "The `SimplerPoint` instances can also be compared:"
   ]
  },
  {
   "cell_type": "code",
   "execution_count": 32,
   "metadata": {},
   "outputs": [
    {
     "name": "stdout",
     "output_type": "stream",
     "text": [
      "origin == origin_2: True \n",
      "origin == not_origin: False \n"
     ]
    }
   ],
   "source": [
    "origin = SimplerPoint(0, 0)\n",
    "origin_2 = SimplerPoint(0, 0)\n",
    "not_origin = SimplerPoint(1,-4)\n",
    "\n",
    "print(f\"origin == origin_2: {origin == origin_2}\")\n",
    "print(f\"origin == not_origin: {origin == not_origin}\")"
   ]
  },
  {
   "cell_type": "markdown",
   "metadata": {},
   "source": [
    "They are also immutable:"
   ]
  },
  {
   "cell_type": "code",
   "execution_count": 33,
   "metadata": {},
   "outputs": [
    {
     "ename": "FrozenInstanceError",
     "evalue": "cannot assign to field 'x'",
     "output_type": "error",
     "traceback": [
      "\u001b[0;31m---------------------------------------------------------------------------\u001b[0m",
      "\u001b[0;31mFrozenInstanceError\u001b[0m                       Traceback (most recent call last)",
      "\u001b[0;32m<ipython-input-33-912734fdae2e>\u001b[0m in \u001b[0;36m<module>\u001b[0;34m\u001b[0m\n\u001b[0;32m----> 1\u001b[0;31m \u001b[0morigin\u001b[0m\u001b[0;34m.\u001b[0m\u001b[0mx\u001b[0m \u001b[0;34m=\u001b[0m \u001b[0;36m3\u001b[0m \u001b[0;31m# This code will fail\u001b[0m\u001b[0;34m\u001b[0m\u001b[0;34m\u001b[0m\u001b[0m\n\u001b[0m",
      "\u001b[0;32m<string>\u001b[0m in \u001b[0;36m__setattr__\u001b[0;34m(self, name, value)\u001b[0m\n",
      "\u001b[0;31mFrozenInstanceError\u001b[0m: cannot assign to field 'x'"
     ]
    }
   ],
   "source": [
    "origin.x = 3 # This code will fail"
   ]
  },
  {
   "cell_type": "markdown",
   "metadata": {},
   "source": [
    "And they can be used as dictionary keys:"
   ]
  },
  {
   "cell_type": "code",
   "execution_count": 34,
   "metadata": {},
   "outputs": [],
   "source": [
    "simpler_point_dictionary = {origin: \"origin\"}"
   ]
  }
 ],
 "metadata": {
  "interpreter": {
   "hash": "916dbcbb3f70747c44a77c7bcd40155683ae19c65e1c03b4aa3499c5328201f1"
  },
  "kernelspec": {
   "display_name": "Python 3",
   "language": "python",
   "name": "python3"
  },
  "language_info": {
   "codemirror_mode": {
    "name": "ipython",
    "version": 3
   },
   "file_extension": ".py",
   "mimetype": "text/x-python",
   "name": "python",
   "nbconvert_exporter": "python",
   "pygments_lexer": "ipython3",
   "version": "3.8.10"
  }
 },
 "nbformat": 4,
 "nbformat_minor": 2
}
